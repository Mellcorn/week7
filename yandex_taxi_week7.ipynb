{
 "cells": [
  {
   "cell_type": "markdown",
   "metadata": {},
   "source": [
    "## New-York Taxi Оформление проекта"
   ]
  },
  {
   "cell_type": "markdown",
   "metadata": {},
   "source": [
    "Рассмотрим временной ряд фактического и прогнозируемого спроса на такси в выбираемой области."
   ]
  },
  {
   "cell_type": "code",
   "execution_count": 15,
   "metadata": {},
   "outputs": [],
   "source": [
    "from ipywidgets import interact\n",
    "import pandas as pd\n",
    "\n",
    "from matplotlib import pyplot as plt\n",
    "\n",
    "import folium"
   ]
  },
  {
   "cell_type": "code",
   "execution_count": 2,
   "metadata": {},
   "outputs": [],
   "source": [
    "full_data =pd.read_csv(\"full_groupped_small.csv\", sep=';') \n",
    "regions =pd.read_csv(\"regions.csv\", sep=';') \n",
    "full_data['datetime'] = pd.to_datetime(full_data['datetime'])"
   ]
  },
  {
   "cell_type": "code",
   "execution_count": 4,
   "metadata": {},
   "outputs": [],
   "source": [
    "full_data = full_data[ (full_data['datetime'] >= '2016-06-01 00:00:00') & (full_data['datetime'] <= '2016-06-30 17:00:00')]\n"
   ]
  },
  {
   "cell_type": "code",
   "execution_count": 5,
   "metadata": {},
   "outputs": [],
   "source": [
    "days_to_choose = full_data.datetime.dt.strftime('%Y-%m-%d').unique()\n",
    "time_to_choose = full_data.datetime.dt.strftime('%H:00:00').unique()"
   ]
  },
  {
   "cell_type": "code",
   "execution_count": 72,
   "metadata": {},
   "outputs": [
    {
     "data": {
      "text/plain": [
       "'1075_2016-06-01_0_1'"
      ]
     },
     "execution_count": 72,
     "metadata": {},
     "output_type": "execute_result"
    }
   ],
   "source": [
    "str(region) + '_' + dt2+'_'+ str(hour) +'_1'"
   ]
  },
  {
   "cell_type": "code",
   "execution_count": 73,
   "metadata": {},
   "outputs": [],
   "source": [
    "# get List of prediction for 6 hours from file u need\n",
    "def getListOfPredictions(region, date, hour ):\n",
    "    \n",
    "    dt = pd.to_datetime(date).strftime('%Y_%m_%d')\n",
    "    dt2 = pd.to_datetime(date).strftime('%Y-%m-%d')\n",
    "    l = [\n",
    "        str(region) + '_' +dt2+'_'+ str(hour) +'_1',\n",
    "        str(region) + '_' +dt2+'_'+ str(hour)+'_2',\n",
    "        str(region) + '_' +dt2+'_'+ str(hour)+'_3',\n",
    "        str(region) + '_' +dt2+'_'+ str(hour)+'_4',\n",
    "        str(region) + '_' +dt2+'_'+ str(hour)+'_5',\n",
    "        str(region) + '_' +dt2+'_'+ str(hour)+'_6',\n",
    "    ]\n",
    "    \n",
    "    if (hour < 10) :\n",
    "        hour =  '0' + str(hour)\n",
    "    hour = str(hour)\n",
    "    \n",
    "    filename = dt + '_' + hour + '.csv'\n",
    "    predict =pd.read_csv('predict/' + filename, header=None) \n",
    "    result = predict[predict[0].isin(l)]\n",
    "    \n",
    "    return result\n",
    "    \n"
   ]
  },
  {
   "cell_type": "code",
   "execution_count": 88,
   "metadata": {},
   "outputs": [],
   "source": [
    "def f(region_id, date, time):\n",
    "    region_row =  regions[regions.region==region_id]\n",
    "    choose_hour = pd.to_datetime(date + ' ' + time)\n",
    "    end_hour = choose_hour + pd.DateOffset(hours=6)\n",
    "    real_data = full_data[(full_data.region==region_id) & (full_data.datetime==choose_hour)]\n",
    "    real_data_from_day = full_data[\n",
    "        (full_data.region==region_id) & \n",
    "        (full_data.datetime>=choose_hour) &\n",
    "        (full_data.datetime<end_hour)\n",
    "    ]\n",
    "    predictions = getListOfPredictions( region_id, date, choose_hour.hour ) \n",
    "    \n",
    "    print(u\"Реальный спрос на 2016-05-10 20:00:00: \", real_data.counts.values[0])\n",
    "    print(u\"Прогнозируемый спрос на 2016-05-10 20:00:00: \", predictions[1].values[0])\n",
    "    west = region_row.west.values[0] \n",
    "    south = region_row.south.values[0]\n",
    "    north = region_row.north.values[0]\n",
    "    east = region_row.east.values[0]\n",
    "\n",
    "    \n",
    "    m = folium.Map(location=[  south, west,], zoom_start=14)\n",
    "    folium.Rectangle(\n",
    "        [[south, west], [north, east]],\n",
    "        popup='The Waterfront',\n",
    "        color='crimson'\n",
    "    ).add_to(m)\n",
    "\n",
    "    plt.figure(figsize=(10, 5))\n",
    "    plt.plot( real_data_from_day.datetime, real_data_from_day.counts)\n",
    "    plt.plot( real_data_from_day.datetime, predictions[1])\n",
    "    return m"
   ]
  },
  {
   "cell_type": "code",
   "execution_count": 89,
   "metadata": {},
   "outputs": [
    {
     "data": {
      "application/vnd.jupyter.widget-view+json": {
       "model_id": "4fadc2da03f94e04b74fcdf143a99054",
       "version_major": 2,
       "version_minor": 0
      },
      "text/plain": [
       "interactive(children=(Dropdown(description='region_id', options=(1075, 1076, 1077, 1125, 1126, 1127, 1128, 112…"
      ]
     },
     "metadata": {},
     "output_type": "display_data"
    }
   ],
   "source": [
    "interact(f, region_id=regions.region.unique(), date = days_to_choose, time = time_to_choose );"
   ]
  },
  {
   "cell_type": "code",
   "execution_count": null,
   "metadata": {},
   "outputs": [],
   "source": []
  }
 ],
 "metadata": {
  "kernelspec": {
   "display_name": "Python 3",
   "language": "python",
   "name": "python3"
  },
  "language_info": {
   "codemirror_mode": {
    "name": "ipython",
    "version": 3
   },
   "file_extension": ".py",
   "mimetype": "text/x-python",
   "name": "python",
   "nbconvert_exporter": "python",
   "pygments_lexer": "ipython3",
   "version": "3.6.6"
  }
 },
 "nbformat": 4,
 "nbformat_minor": 1
}
